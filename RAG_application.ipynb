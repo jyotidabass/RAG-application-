{
  "nbformat": 4,
  "nbformat_minor": 0,
  "metadata": {
    "colab": {
      "provenance": [],
      "authorship_tag": "ABX9TyO1W1jApNUDXw5JQjlfPBFJ",
      "include_colab_link": true
    },
    "kernelspec": {
      "name": "python3",
      "display_name": "Python 3"
    },
    "language_info": {
      "name": "python"
    }
  },
  "cells": [
    {
      "cell_type": "markdown",
      "metadata": {
        "id": "view-in-github",
        "colab_type": "text"
      },
      "source": [
        "<a href=\"https://colab.research.google.com/github/jyotidabass/RAG-application-/blob/main/RAG_application.ipynb\" target=\"_parent\"><img src=\"https://colab.research.google.com/assets/colab-badge.svg\" alt=\"Open In Colab\"/></a>"
      ]
    },
    {
      "cell_type": "code",
      "execution_count": 14,
      "metadata": {
        "colab": {
          "base_uri": "https://localhost:8080/",
          "height": 35
        },
        "id": "52u5h4dEkXuO",
        "outputId": "28ae0618-e30b-40af-b517-607547cb4b32"
      },
      "outputs": [
        {
          "output_type": "execute_result",
          "data": {
            "text/plain": [
              "'Have a picnic with friends and share some laughs.'"
            ],
            "application/vnd.google.colaboratory.intrinsic+json": {
              "type": "string"
            }
          },
          "metadata": {},
          "execution_count": 14
        }
      ],
      "source": [
        "corpus_of_documents = [\n",
        "    \"Take a leisurely walk in the park and enjoy the fresh air.\",\n",
        "    \"Visit a local museum and discover something new.\",\n",
        "    \"Attend a live music concert and feel the rhythm.\",\n",
        "    \"Go for a hike and admire the natural scenery.\",\n",
        "    \"Have a picnic with friends and share some laughs.\",\n",
        "    \"Explore a new cuisine by dining at an ethnic restaurant.\",\n",
        "    \"Take a yoga class and stretch your body and mind.\",\n",
        "    \"Join a local sports league and enjoy some friendly competition.\",\n",
        "    \"Attend a workshop or lecture on a topic you're interested in.\",\n",
        "    \"Visit an amusement park and ride the roller coasters.\"\n",
        "]\n",
        "\n",
        "def jaccard_similarity(query, document):\n",
        "    query = query.lower().split(\" \")\n",
        "    document = document.lower().split(\" \")\n",
        "    intersection = set(query).intersection(set(document))\n",
        "    union = set(query).union(set(document))\n",
        "    return len(intersection)/len(union)\n",
        "\n",
        "def return_response(query, corpus):\n",
        "    similarities = []\n",
        "    for doc in corpus:\n",
        "        similarity = jaccard_similarity(user_input, doc)\n",
        "        similarities.append(similarity)\n",
        "    return corpus_of_documents[similarities.index(max(similarities))]\n",
        "\n",
        "user_prompt = \"What is a leisure activity that you like?\"\n",
        "user_input = \"I like picnic\"\n",
        "return_response(user_input, corpus_of_documents)"
      ]
    },
    {
      "cell_type": "markdown",
      "source": [
        "# Adding NLP Techniques in the code"
      ],
      "metadata": {
        "id": "kENMIk6auwey"
      }
    },
    {
      "cell_type": "code",
      "source": [
        "import nltk\n",
        "from nltk.corpus import stopwords\n",
        "from nltk.stem.porter import PorterStemmer\n",
        "from nltk.tokenize import word_tokenize\n",
        "\n",
        "# Import necessary libraries\n",
        "nltk.download('stopwords')\n",
        "nltk.download('punkt')\n",
        "nltk.download('wordnet')\n",
        "\n",
        "# Prepare the Corpus of Documents\n",
        "corpus_of_documents = [\n",
        "    \"Take a leisurely walk in the park and enjoy the fresh air.\",\n",
        "    \"Visit a local museum and discover something new.\",\n",
        "    \"Attend a live music concert and feel the rhythm.\",\n",
        "    \"Go for a hike and admire the natural scenery.\",\n",
        "    \"Have a picnic with friends and share some laughs.\",\n",
        "    \"Explore a new cuisine by dining at an ethnic restaurant.\",\n",
        "    \"Take a yoga class and stretch your body and mind.\",\n",
        "    \"Join a local sports league and enjoy some friendly competition.\",\n",
        "    \"Attend a workshop or lecture on a topic you're interested in.\",\n",
        "    \"Visit an amusement park and ride the roller coasters.\"\n",
        "]\n",
        "\n",
        "# Define the Stemming Function\n",
        "def stem_tokens(tokens):\n",
        "    stemmer = PorterStemmer()\n",
        "    return [stemmer.stem(token) for token in tokens]\n",
        "\n",
        "# Define the Stopwords Function\n",
        "def remove_stopwords(text):\n",
        "    stop_words = set(stopwords.words('english'))\n",
        "    return [word for word in text if word.lower() not in stop_words]\n",
        "\n",
        "# Define the Tokenize Function\n",
        "def tokenize_text(text):\n",
        "    return word_tokenize(text)\n",
        "\n",
        "# Define the TF-IDF Weighted Function\n",
        "def tfidf_weighted(text):\n",
        "    stop_words = set(stopwords.words('english'))\n",
        "    tokens = nltk.word_tokenize(text)\n",
        "    tokens = [t.lower() for t in tokens]\n",
        "    tokens = [t for t in tokens if not t.isdigit()]\n",
        "    tokens = [t for t in tokens if not t.startswith('http')]\n",
        "    tokens = [t for t in tokens if t.isalnum() or t.isalpha()]\n",
        "    tokens = [t for t in tokens if t not in stop_words]\n",
        "    tokens = [nltk.stem.PorterStemmer().stem(t) for t in tokens]\n",
        "    return tokens\n",
        "\n",
        "# Define the Jaccard Similarity Function\n",
        "def jaccard_similarity(query, document):\n",
        "    query = set(query)\n",
        "    document = set(document)\n",
        "    return len(query.intersection(document)) / len(query.union(document))\n",
        "\n",
        "# Define the RAG Function\n",
        "def rag_response(query, corpus):\n",
        "    corpus_tfidf = [tfidf_weighted(doc) for doc in corpus]\n",
        "    max_similarity = 0\n",
        "    max_index = 0\n",
        "    for i, doc in enumerate(corpus_tfidf):\n",
        "        similarity = jaccard_similarity(query, doc)\n",
        "        if similarity > max_similarity:\n",
        "            max_similarity = similarity\n",
        "            max_index = i\n",
        "\n",
        "    return corpus_of_documents[max_index]\n",
        "\n",
        "# Get User Input\n",
        "user_input = input(\"What is a leisure activity that you like? \")\n",
        "\n",
        "# Run the RAG Function\n",
        "output = rag_response(tfidf_weighted(user_input), corpus_of_documents)\n",
        "\n",
        "# Print the Output\n",
        "print(\"Suggested Leisure Activity: \", output)"
      ],
      "metadata": {
        "colab": {
          "base_uri": "https://localhost:8080/"
        },
        "id": "NWLox0SFqVQv",
        "outputId": "1af45fe5-a39e-416c-8991-56d8abd03806"
      },
      "execution_count": 15,
      "outputs": [
        {
          "output_type": "stream",
          "name": "stderr",
          "text": [
            "[nltk_data] Downloading package stopwords to /root/nltk_data...\n",
            "[nltk_data]   Unzipping corpora/stopwords.zip.\n",
            "[nltk_data] Downloading package punkt to /root/nltk_data...\n",
            "[nltk_data]   Unzipping tokenizers/punkt.zip.\n",
            "[nltk_data] Downloading package wordnet to /root/nltk_data...\n"
          ]
        },
        {
          "output_type": "stream",
          "name": "stdout",
          "text": [
            "What is a leisure activity that you like? hike\n",
            "Suggested Leisure Activity:  Go for a hike and admire the natural scenery.\n"
          ]
        }
      ]
    }
  ]
}